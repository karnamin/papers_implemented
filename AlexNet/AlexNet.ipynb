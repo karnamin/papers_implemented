{
 "cells": [
  {
   "cell_type": "markdown",
   "metadata": {},
   "source": [
    "# AlexNet Implementation\n",
    "\n",
    "AlexNet implementation using the CIFAR10 dataset.\n",
    "\n",
    "Paper can be found at: [https://papers.nips.cc/paper/2012/file/c399862d3b9d6b76c8436e924a68c45b-Paper.pdf]"
   ]
  },
  {
   "cell_type": "code",
   "execution_count": null,
   "metadata": {},
   "outputs": [],
   "source": [
    "import tensorflow as tf\n",
    "from tensorflow import keras\n",
    "import matplotlib.pyplot as plt\n",
    "import os\n",
    "import time"
   ]
  },
  {
   "cell_type": "markdown",
   "metadata": {},
   "source": [
    "## Dataset\n",
    "\n",
    "Dataset used in this project is CIFAR10 dataset from Keras (keras.datasets)"
   ]
  },
  {
   "cell_type": "code",
   "execution_count": null,
   "metadata": {},
   "outputs": [],
   "source": [
    "# Using CIFAR10 dataset from Keras\n",
    "\n",
    "(train_images, train_labels), (test_images, test_labels) = keras.datasets.cifar10.load_data()"
   ]
  },
  {
   "cell_type": "code",
   "execution_count": null,
   "metadata": {},
   "outputs": [],
   "source": [
    "# Classes in dataset (10 classes)\n",
    "\n",
    "CLASS_NAMES= ['airplane', 'automobile', 'bird', 'cat', 'deer', 'dog', 'frog', 'horse', 'ship', 'truck']"
   ]
  },
  {
   "cell_type": "code",
   "execution_count": null,
   "metadata": {},
   "outputs": [],
   "source": [
    "# Creating validation set -> last 5000 images of training dataset\n",
    "\n",
    "validation_images, validation_labels = train_images[:5000], train_labels[:5000]\n",
    "train_images, train_labels = train_images[5000:], train_labels[5000:]"
   ]
  },
  {
   "cell_type": "markdown",
   "metadata": {},
   "source": [
    "## Data Preprocessing"
   ]
  },
  {
   "cell_type": "code",
   "execution_count": null,
   "metadata": {},
   "outputs": [],
   "source": [
    "# Converting dataset object to tensorflow dataset object for implementation of pipelines\n",
    "\n",
    "train_ds = tf.data.Dataset.from_tensor_slices((train_images, train_labels))\n",
    "test_ds = tf.data.Dataset.from_tensor_slices((test_images, test_labels))\n",
    "validation_ds = tf.data.Dataset.from_tensor_slices((validation_images, validation_labels))"
   ]
  },
  {
   "cell_type": "code",
   "execution_count": null,
   "metadata": {},
   "outputs": [],
   "source": [
    "# Visualizing CIFAR dataset\n",
    "\n",
    "plt.figure(figsize=(20,20))\n",
    "for i, (image, label) in enumerate(train_ds.take(5)):\n",
    "    ax = plt.subplot(5,5,i+1)\n",
    "    plt.imshow(image)\n",
    "    plt.title(CLASS_NAMES[label.numpy()[0]])\n",
    "    plt.axis('off')"
   ]
  },
  {
   "cell_type": "code",
   "execution_count": null,
   "metadata": {},
   "outputs": [],
   "source": [
    "# Normalizing and Resizing images\n",
    "\n",
    "def process_images(image, label):\n",
    "    # Normalize images to have a mean of 0 and standard deviation of 1\n",
    "    image = tf.image.per_image_standardization(image)\n",
    "    # Resize images from 32x32 to 277x277\n",
    "    image = tf.image.resize(image, (227,227))\n",
    "    return image, label"
   ]
  },
  {
   "cell_type": "markdown",
   "metadata": {},
   "source": [
    "## Data Pipeline"
   ]
  },
  {
   "cell_type": "code",
   "execution_count": null,
   "metadata": {},
   "outputs": [],
   "source": [
    "train_ds_size = tf.data.experimental.cardinality(train_ds).numpy()\n",
    "test_ds_size = tf.data.experimental.cardinality(test_ds).numpy()\n",
    "validation_ds_size = tf.data.experimental.cardinality(validation_ds).numpy()\n",
    "print(\"Training data size:\", train_ds_size)\n",
    "print(\"Test data size:\", test_ds_size)\n",
    "print(\"Validation data size:\", validation_ds_size)"
   ]
  },
  {
   "cell_type": "code",
   "execution_count": null,
   "metadata": {},
   "outputs": [],
   "source": [
    "# 2 operations:\n",
    "# 1. Preprocessing the data within the dataset\n",
    "# 3. Batch data within the dataset\n",
    "\n",
    "train_ds = (train_ds\n",
    "                  .map(process_images)\n",
    "                  .batch(batch_size=128, drop_remainder=True))\n",
    "test_ds = (test_ds\n",
    "                  .map(process_images)\n",
    "                  .batch(batch_size=32, drop_remainder=True))\n",
    "validation_ds = (validation_ds\n",
    "                  .map(process_images)\n",
    "                  .batch(batch_size=32, drop_remainder=True))"
   ]
  },
  {
   "cell_type": "markdown",
   "metadata": {},
   "source": [
    "## Model Implementation"
   ]
  },
  {
   "cell_type": "code",
   "execution_count": null,
   "metadata": {},
   "outputs": [],
   "source": [
    "model = keras.models.Sequential([\n",
    "    # Input layer\n",
    "    keras.layers.Conv2D(filters=96, kernel_size=(11,11), strides=(4,4), activation='relu', \n",
    "                        kernel_initializer=tf.random_normal_initializer(mean=0.0, stddev=0.01),\n",
    "                        input_shape=(227,227,3), use_bias = True,  bias_initializer='zeros'),\n",
    "    tf.keras.layers.Lambda(tf.nn.local_response_normalization,\n",
    "                           {\n",
    "                               \"depth_radius\": 5.0,\n",
    "                               \"bias\": 2.0,\n",
    "                               \"alpha\": 0.0001,\n",
    "                               \"beta\": 0.75\n",
    "                           }\n",
    "                          ),\n",
    "    keras.layers.MaxPool2D(pool_size=(3,3), strides=(2,2)),\n",
    "    \n",
    "    # Second layer\n",
    "    keras.layers.Conv2D(filters=256, kernel_size=(5,5), strides=(1,1), activation='relu',\n",
    "                        kernel_initializer=tf.random_normal_initializer(mean=0.0, stddev=0.01),\n",
    "                        padding=\"same\", use_bias = True,  bias_initializer='ones'),\n",
    "    tf.keras.layers.Lambda(tf.nn.local_response_normalization,\n",
    "                           {\n",
    "                               \"depth_radius\": 5.0,\n",
    "                               \"bias\": 2.0,\n",
    "                               \"alpha\": 0.0001,\n",
    "                               \"beta\": 0.75\n",
    "                           }\n",
    "                          ),\n",
    "    keras.layers.MaxPool2D(pool_size=(3,3), strides=(2,2)),\n",
    "    \n",
    "    # Third layer\n",
    "    keras.layers.Conv2D(filters=384, kernel_size=(3,3), strides=(1,1), activation='relu', \n",
    "                        kernel_initializer=tf.random_normal_initializer(mean=0.0, stddev=0.01),\n",
    "                        padding=\"same\", use_bias = True,  bias_initializer='zeros'),\n",
    "     tf.keras.layers.Lambda(tf.nn.local_response_normalization,\n",
    "                           {\n",
    "                               \"depth_radius\": 5.0,\n",
    "                               \"bias\": 2.0,\n",
    "                               \"alpha\": 0.0001,\n",
    "                               \"beta\": 0.75\n",
    "                           }\n",
    "                          ),\n",
    "    \n",
    "    # Fourth layer\n",
    "    keras.layers.Conv2D(filters=384, kernel_size=(1,1), strides=(1,1), activation='relu', \n",
    "                        kernel_initializer=tf.random_normal_initializer(mean=0.0, stddev=0.01),\n",
    "                        padding=\"same\", use_bias = True,  bias_initializer='ones'),\n",
    "    tf.keras.layers.Lambda(tf.nn.local_response_normalization,\n",
    "                           {\n",
    "                               \"depth_radius\": 5.0,\n",
    "                               \"bias\": 2.0,\n",
    "                               \"alpha\": 0.0001,\n",
    "                               \"beta\": 0.75\n",
    "                           }\n",
    "                          ),\n",
    "    \n",
    "    # Fifth layer\n",
    "    keras.layers.Conv2D(filters=256, kernel_size=(1,1), strides=(1,1), activation='relu', \n",
    "                        kernel_initializer=tf.random_normal_initializer(mean=0.0, stddev=0.01),\n",
    "                        padding=\"same\", use_bias = True,  bias_initializer='ones'),\n",
    "    tf.keras.layers.Lambda(tf.nn.local_response_normalization,\n",
    "                           {\n",
    "                               \"depth_radius\": 5.0,\n",
    "                               \"bias\": 2.0,\n",
    "                               \"alpha\": 0.0001,\n",
    "                               \"beta\": 0.75\n",
    "                           }\n",
    "                          ),\n",
    "    keras.layers.MaxPool2D(pool_size=(3,3), strides=(2,2)),\n",
    "    \n",
    "    # Sixth layer\n",
    "    keras.layers.Flatten(),\n",
    "    \n",
    "    keras.layers.Dense(4096, activation='relu', bias_initializer='ones',\n",
    "                      kernel_initializer=tf.random_normal_initializer(mean=0.0, stddev=0.01),),\n",
    "    keras.layers.Dropout(0.5),\n",
    "    \n",
    "    # Seventh layer\n",
    "    keras.layers.Dense(4096, activation='relu', bias_initializer='ones',\n",
    "                      kernel_initializer=tf.random_normal_initializer(mean=0.0, stddev=0.01),),\n",
    "    keras.layers.Dropout(0.5),\n",
    "    \n",
    "    # Output layer\n",
    "    keras.layers.Dense(10, activation='softmax',\n",
    "                      kernel_initializer=tf.random_normal_initializer(mean=0.0, stddev=0.01),)\n",
    "])"
   ]
  },
  {
   "cell_type": "markdown",
   "metadata": {},
   "source": [
    "## Reduce learning rate"
   ]
  },
  {
   "cell_type": "code",
   "execution_count": null,
   "metadata": {},
   "outputs": [],
   "source": [
    "reduce_lr = tf.keras.callbacks.ReduceLROnPlateau(monitor='val_loss', \n",
    "                                                 factor=0.1, patience=1,\n",
    "                                                 min_lr=0.00001)"
   ]
  },
  {
   "cell_type": "markdown",
   "metadata": {},
   "source": [
    "## Training and Evaluation"
   ]
  },
  {
   "cell_type": "code",
   "execution_count": null,
   "metadata": {},
   "outputs": [],
   "source": [
    "model.compile(loss='sparse_categorical_crossentropy', optimizer=tf.optimizers.SGD(lr=0.001), metrics=['accuracy'])\n",
    "model.summary()"
   ]
  },
  {
   "cell_type": "code",
   "execution_count": null,
   "metadata": {},
   "outputs": [],
   "source": [
    "model.fit(train_ds,\n",
    "          epochs=90,\n",
    "          validation_data=validation_ds,\n",
    "          callbacks=[reduce_lr],\n",
    "          batch_size=128)"
   ]
  },
  {
   "cell_type": "code",
   "execution_count": null,
   "metadata": {},
   "outputs": [],
   "source": []
  }
 ],
 "metadata": {
  "kernelspec": {
   "display_name": "Python 3",
   "language": "python",
   "name": "python3"
  },
  "language_info": {
   "codemirror_mode": {
    "name": "ipython",
    "version": 3
   },
   "file_extension": ".py",
   "mimetype": "text/x-python",
   "name": "python",
   "nbconvert_exporter": "python",
   "pygments_lexer": "ipython3",
   "version": "3.8.5"
  }
 },
 "nbformat": 4,
 "nbformat_minor": 4
}
